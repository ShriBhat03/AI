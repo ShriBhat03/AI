{
 "cells": [
  {
   "cell_type": "code",
   "execution_count": 1,
   "id": "ae86572a",
   "metadata": {},
   "outputs": [
    {
     "ename": "IndentationError",
     "evalue": "expected an indented block (Temp/ipykernel_16476/3438787590.py, line 15)",
     "output_type": "error",
     "traceback": [
      "\u001b[1;36m  File \u001b[1;32m\"C:\\Users\\User\\AppData\\Local\\Temp/ipykernel_16476/3438787590.py\"\u001b[1;36m, line \u001b[1;32m15\u001b[0m\n\u001b[1;33m    print (node)\u001b[0m\n\u001b[1;37m    ^\u001b[0m\n\u001b[1;31mIndentationError\u001b[0m\u001b[1;31m:\u001b[0m expected an indented block\n"
     ]
    }
   ],
   "source": [
   
    "graph = {\n",
    " '5' : ['3','7'],\n",
    " '3' : ['2', '4'],\n",
    " '7' : ['6'],\n",
    " '6': [],\n",
    " '2' : ['1'],\n",
    " '1':[],\n",
    " '4' : ['8'],\n",
    " '8' : []\n",
    "}\n",
    "visited = set() # Set to keep track of visited nodes of graph.\n",
    "def dfs(visited, graph, node): #function for dfs \n",
    " if node not in visited:\n",
    " print (node)\n",
    " visited.add(node)\n",
    " for neighbour in graph[node]:\n",
    " dfs(visited, graph, neighbour)\n",
   
    "print(\"Following is the Depth-First Search\")\n",
    "dfs(visited, graph, '5')\n"
   ]
  },
  {
   "cell_type": "code",
   "execution_count": null,
   "id": "fff6a918",
   "metadata": {},
   "outputs": [],
   "source": []
  }
 ],
 "metadata": {
  "kernelspec": {
   "display_name": "Python 3 (ipykernel)",
   "language": "python",
   "name": "python3"
  },
  "language_info": {
   "codemirror_mode": {
    "name": "ipython",
    "version": 3
   },
   "file_extension": ".py",
   "mimetype": "text/x-python",
   "name": "python",
   "nbconvert_exporter": "python",
   "pygments_lexer": "ipython3",
   "version": "3.9.7"
  }
 },
 "nbformat": 4,
 "nbformat_minor": 5
}
