{
 "cells": [
  {
   "cell_type": "code",
   "execution_count": null,
   "id": "82ae3909",
   "metadata": {},
   "outputs": [],
   "source": [
    "\n",
    "from sys import maxsize\n",
    "from itertools import permutations\n",
    "V = 4\n",
    "\n",
    "\n",
    "def travellingSalesmanProblem(graph, s):\n",
    "\n",
    "\n",
    "\tvertex = []\n",
    "\tfor i in range(V):\n",
    "\t\tif i != s:\n",
    "\t\t\tvertex.append(i)\n",
    "\n",
    "\n",
    "\tmin_path = maxsize\n",
    "\tnext_permutation=permutations(vertex)\n",
    "\tfor i in next_permutation:\n",
    "\n",
    "\n",
    "\t\tcurrent_pathweight = 0\n",
    "\n",
    "\n",
    "\t\tk = s\n",
    "\t\tfor j in i:\n",
    "\t\t\tcurrent_pathweight += graph[k][j]\n",
    "\t\t\tk = j\n",
    "\t\tcurrent_pathweight += graph[k][s]\n",
    "\n",
    "\n",
    "\t\tmin_path = min(min_path, current_pathweight)\n",
    "\t\t\n",
    "\treturn min_path\n",
    "\n",
    "\n",
    "\n",
    "if __name__ == \"__main__\":\n",
    "\n",
    "\n",
    "\tgraph = [[0, 10, 15, 20], [10, 0, 35, 25],\n",
    "\t\t\t[15, 35, 0, 30], [20, 25, 30, 0]]\n",
    "\ts = 0\n",
    "\tprint(travellingSalesmanProblem(graph, s))\n"
   ]
  }
 ],
 "metadata": {
  "kernelspec": {
   "display_name": "Python 3 (ipykernel)",
   "language": "python",
   "name": "python3"
  },
  "language_info": {
   "codemirror_mode": {
    "name": "ipython",
    "version": 3
   },
   "file_extension": ".py",
   "mimetype": "text/x-python",
   "name": "python",
   "nbconvert_exporter": "python",
   "pygments_lexer": "ipython3",
   "version": "3.9.7"
  }
 },
 "nbformat": 4,
 "nbformat_minor": 5
}
