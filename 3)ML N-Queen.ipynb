{
 "cells": [
  {
   "cell_type": "code",
   "execution_count": 1,
   "id": "ab572b8b",
   "metadata": {},
   "outputs": [
    {
     "name": "stdout",
     "output_type": "stream",
     "text": [
      "0 0 1 0 \n",
      "1 0 0 0 \n",
      "0 0 0 1 \n",
      "0 1 0 0 \n"
     ]
    },
    {
     "data": {
      "text/plain": [
       "True"
      ]
     },
     "execution_count": 1,
     "metadata": {},
     "output_type": "execute_result"
    }
   ],
   "source": [
    "N = 4\n",
    "ld = [0] * 30\n",
    "rd = [0] * 30\n",
    "cl = [0] * 30\n",
    "def printSolution(board):\n",
    "\tfor i in range(N):\n",
    "\t\tfor j in range(N):\n",
    "\t\t\tprint(board[i][j], end = \" \")\n",
    "\t\tprint()\n",
    "\n",
    "def solveNQUtil(board, col):\n",
    "\t\n",
    "\tif (col >= N):\n",
    "\t\treturn True\n",
    "\t\n",
    "\tfor i in range(N):\n",
    "\t\tif ((ld[i - col + N - 1] != 1 and\n",
    "\t\t\trd[i + col] != 1) and cl[i] != 1):\n",
    "\t\t\tboard[i][col] = 1\n",
    "\t\t\tld[i - col + N - 1] = rd[i + col] = cl[i] = 1\n",
    "\t\t\t\n",
    "\t\t\tif (solveNQUtil(board, col + 1)):\n",
    "\t\t\t\treturn True\n",
    "\t\t\tboard[i][col] = 0 # BACKTRACK\n",
    "\t\t\tld[i - col + N - 1] = rd[i + col] = cl[i] = 0\n",
    "\treturn False\n",
    "def solveNQ():\n",
    "\tboard = [[0, 0, 0, 0],\n",
    "\t\t\t[0, 0, 0, 0],\n",
    "\t\t\t[0, 0, 0, 0],\n",
    "\t\t\t[0, 0, 0, 0]]\n",
    "\tif (solveNQUtil(board, 0) == False):\n",
    "\t\tprintf(\"Solution does not exist\")\n",
    "\t\treturn False\n",
    "\tprintSolution(board)\n",
    "\treturn True\n",
    "\t\n",
    "\n",
    "solveNQ()"
   ]
  },
  {
   "cell_type": "code",
   "execution_count": null,
   "id": "37f8e2ea",
   "metadata": {},
   "outputs": [],
   "source": []
  }
 ],
 "metadata": {
  "kernelspec": {
   "display_name": "Python 3 (ipykernel)",
   "language": "python",
   "name": "python3"
  },
  "language_info": {
   "codemirror_mode": {
    "name": "ipython",
    "version": 3
   },
   "file_extension": ".py",
   "mimetype": "text/x-python",
   "name": "python",
   "nbconvert_exporter": "python",
   "pygments_lexer": "ipython3",
   "version": "3.9.7"
  }
 },
 "nbformat": 4,
 "nbformat_minor": 5
}
